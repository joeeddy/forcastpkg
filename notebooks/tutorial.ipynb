{
 "cells": [
  {
   "cell_type": "markdown",
   "metadata": {},
   "source": [
    "# Forcasting Package Tutorial\n",
    "\n",
    "This notebook demonstrates the basic usage of the forcasting_pkg for financial forecasting and technical analysis."
   ]
  },
  {
   "cell_type": "code",
   "execution_count": null,
   "metadata": {},
   "outputs": [],
   "source": [
    "# Install the package if not already installed\n",
    "# !pip install forcasting-pkg[full]"
   ]
  },
  {
   "cell_type": "code",
   "execution_count": null,
   "metadata": {},
   "outputs": [],
   "source": [
    "# Import required modules\n",
    "from forcasting_pkg import ForecastingEngine, TechnicalAnalyzer\n",
    "from forcasting_pkg.data import get_historical_data\n",
    "from forcasting_pkg.visualization import plot_forecast, plot_technical_indicators\n",
    "from forcasting_pkg.models import DataType\n",
    "\n",
    "import pandas as pd\n",
    "import matplotlib.pyplot as plt\n",
    "\n",
    "print(\"Forcasting Package loaded successfully!\")"
   ]
  },
  {
   "cell_type": "markdown",
   "metadata": {},
   "source": [
    "## 1. Data Acquisition\n",
    "\n",
    "Let's start by fetching some historical stock data."
   ]
  },
  {
   "cell_type": "code",
   "execution_count": null,
   "metadata": {},
   "outputs": [],
   "source": [
    "# Get historical data for Apple stock\n",
    "symbol = \"AAPL\"\n",
    "data = get_historical_data(symbol, days=90, data_type=DataType.STOCK)\n",
    "\n",
    "print(f\"Loaded {len(data)} data points for {symbol}\")\n",
    "print(f\"Date range: {data[0].date.strftime('%Y-%m-%d')} to {data[-1].date.strftime('%Y-%m-%d')}\")\n",
    "print(f\"Price range: ${min(d.close for d in data):.2f} - ${max(d.close for d in data):.2f}\")"
   ]
  },
  {
   "cell_type": "markdown",
   "metadata": {},
   "source": [
    "## 2. Basic Forecasting\n",
    "\n",
    "Now let's generate some forecasts using different models."
   ]
  },
  {
   "cell_type": "code",
   "execution_count": null,
   "metadata": {},
   "outputs": [],
   "source": [
    "# Create forecasting engine\n",
    "engine = ForecastingEngine()\n",
    "\n",
    "# Generate ARIMA forecast\n",
    "arima_forecast = engine.forecast(data, \"arima\", symbol, days=30)\n",
    "\n",
    "print(f\"ARIMA Forecast:\")\n",
    "print(f\"  Model: {arima_forecast.model_type}\")\n",
    "print(f\"  Accuracy: {arima_forecast.model_accuracy:.2%}\" if arima_forecast.model_accuracy else \"  Accuracy: N/A\")\n",
    "print(f\"  30-day forecast: ${arima_forecast.forecast_points[0].predicted_value:.2f} (first day)\")"
   ]
  },
  {
   "cell_type": "code",
   "execution_count": null,
   "metadata": {},
   "outputs": [],
   "source": [
    "# Compare multiple models\n",
    "comparison = engine.compare_models(data, symbol, days=14)\n",
    "\n",
    "print(\"Model Comparison (14-day forecast):\")\n",
    "print(\"-\" * 40)\n",
    "\n",
    "for model_name, forecast in comparison.items():\n",
    "    accuracy = forecast.model_accuracy if forecast.model_accuracy else 0\n",
    "    first_pred = forecast.forecast_points[0].predicted_value if forecast.forecast_points else 0\n",
    "    print(f\"{model_name:20} | Accuracy: {accuracy:>6.2%} | First pred: ${first_pred:>7.2f}\")"
   ]
  },
  {
   "cell_type": "markdown",
   "metadata": {},
   "source": [
    "## 3. Technical Analysis\n",
    "\n",
    "Let's analyze the technical indicators for our stock."
   ]
  },
  {
   "cell_type": "code",
   "execution_count": null,
   "metadata": {},
   "outputs": [],
   "source": [
    "# Perform technical analysis\n",
    "analyzer = TechnicalAnalyzer()\n",
    "analysis = analyzer.analyze(data, symbol)\n",
    "\n",
    "print(f\"Technical Analysis for {symbol}:\")\n",
    "print(f\"  Signal Strength: {analysis.signal_strength}\")\n",
    "print(f\"  Confidence: {analysis.confidence:.2%}\" if analysis.confidence else \"  Confidence: N/A\")\n",
    "\n",
    "# Display key indicators\n",
    "indicators = analysis.technical_indicators\n",
    "print(\"\\nKey Indicators:\")\n",
    "\n",
    "if indicators.rsi:\n",
    "    print(f\"  RSI: {indicators.rsi:.2f}\")\n",
    "if indicators.macd:\n",
    "    print(f\"  MACD: {indicators.macd:.4f}\")\n",
    "if indicators.moving_average_20:\n",
    "    print(f\"  20-day MA: ${indicators.moving_average_20:.2f}\")\n",
    "if indicators.moving_average_50:\n",
    "    print(f\"  50-day MA: ${indicators.moving_average_50:.2f}\")\n",
    "\n",
    "# Display recommendations\n",
    "if analysis.recommendations:\n",
    "    print(\"\\nRecommendations:\")\n",
    "    for rec in analysis.recommendations:\n",
    "        print(f\"  • {rec}\")"
   ]
  },
  {
   "cell_type": "markdown",
   "metadata": {},
   "source": [
    "## 4. Visualization\n",
    "\n",
    "Let's create some plots to visualize our analysis."
   ]
  },
  {
   "cell_type": "code",
   "execution_count": null,
   "metadata": {},
   "outputs": [],
   "source": [
    "# Plot forecast\n",
    "fig = plot_forecast(data, arima_forecast, symbol, interactive=False)\n",
    "if fig:\n",
    "    plt.show()\n",
    "else:\n",
    "    print(\"Visualization not available (missing matplotlib or plotly)\")"
   ]
  },
  {
   "cell_type": "code",
   "execution_count": null,
   "metadata": {},
   "outputs": [],
   "source": [
    "# Plot technical indicators\n",
    "fig = plot_technical_indicators(data, analysis.technical_indicators, symbol, interactive=False)\n",
    "if fig:\n",
    "    plt.show()\n",
    "else:\n",
    "    print(\"Technical analysis plot not available\")"
   ]
  },
  {
   "cell_type": "markdown",
   "metadata": {},
   "source": [
    "## 5. Ensemble Forecasting\n",
    "\n",
    "Let's create an ensemble forecast that combines multiple models."
   ]
  },
  {
   "cell_type": "code",
   "execution_count": null,
   "metadata": {},
   "outputs": [],
   "source": [
    "# Create ensemble forecast\n",
    "ensemble_forecast = engine.create_ensemble(\n",
    "    data, \n",
    "    symbol, \n",
    "    models=[\"arima\", \"linear\", \"moving_average\"],\n",
    "    weights=[0.5, 0.3, 0.2],  # Higher weight for ARIMA\n",
    "    days=21\n",
    ")\n",
    "\n",
    "print(f\"Ensemble Forecast:\")\n",
    "print(f\"  Model: {ensemble_forecast.model_type}\")\n",
    "print(f\"  Accuracy: {ensemble_forecast.model_accuracy:.2%}\" if ensemble_forecast.model_accuracy else \"  Accuracy: N/A\")\n",
    "print(f\"  21-day forecast generated\")\n",
    "\n",
    "# Show some predictions\n",
    "print(\"\\nSample predictions:\")\n",
    "for i in [0, 6, 13, 20]:  # Weekly intervals\n",
    "    if i < len(ensemble_forecast.forecast_points):\n",
    "        point = ensemble_forecast.forecast_points[i]\n",
    "        print(f\"  Day {i+1:2d}: ${point.predicted_value:.2f}\")"
   ]
  },
  {
   "cell_type": "markdown",
   "metadata": {},
   "source": [
    "## 6. Cryptocurrency Analysis\n",
    "\n",
    "The package also supports cryptocurrency analysis."
   ]
  },
  {
   "cell_type": "code",
   "execution_count": null,
   "metadata": {},
   "outputs": [],
   "source": [
    "# Get Bitcoin data\n",
    "crypto_data = get_historical_data(\"bitcoin\", days=60, data_type=DataType.CRYPTO)\n",
    "\n",
    "if crypto_data:\n",
    "    print(f\"Loaded {len(crypto_data)} data points for Bitcoin\")\n",
    "    \n",
    "    # Generate crypto forecast\n",
    "    btc_forecast = engine.forecast(crypto_data, \"arima\", \"BTC\", days=7)\n",
    "    \n",
    "    print(f\"\\nBitcoin 7-day forecast:\")\n",
    "    print(f\"  Model: {btc_forecast.model_type}\")\n",
    "    \n",
    "    # Show predictions\n",
    "    for i, point in enumerate(btc_forecast.forecast_points[:3]):\n",
    "        print(f\"  Day {i+1}: ${point.predicted_value:,.2f}\")\nelse:\n",
    "    print(\"Bitcoin data not available (using mock data)\")"
   ]
  },
  {
   "cell_type": "markdown",
   "metadata": {},
   "source": [
    "## 7. Export Results\n",
    "\n",
    "Finally, let's export our forecast results."
   ]
  },
  {
   "cell_type": "code",
   "execution_count": null,
   "metadata": {},
   "outputs": [],
   "source": [
    "# Export forecast to dictionary\n",
    "forecast_dict = arima_forecast.dict()\n",
    "\n",
    "print(\"Forecast exported to dictionary:\")\n",
    "print(f\"  Symbol: {forecast_dict['symbol']}\")\n",
    "print(f\"  Model: {forecast_dict['model_type']}\")\n",
    "print(f\"  Forecast points: {len(forecast_dict['forecast_points'])}\")\n",
    "\n",
    "# Convert to pandas DataFrame for analysis\n",
    "forecast_df = pd.DataFrame([\n",
    "    {\n",
    "        'date': point['date'],\n",
    "        'prediction': point['predicted_value'],\n",
    "        'lower_bound': point['confidence_interval_lower'],\n",
    "        'upper_bound': point['confidence_interval_upper']\n",
    "    } for point in forecast_dict['forecast_points']\n",
    "])\n",
    "\n",
    "print(\"\\nForecast DataFrame:\")\n",
    "print(forecast_df.head())"
   ]
  },
  {
   "cell_type": "markdown",
   "metadata": {},
   "source": [
    "## Conclusion\n",
    "\n",
    "This notebook demonstrated the basic capabilities of the forcasting_pkg:\n",
    "\n",
    "- **Data Acquisition**: Fetching historical market data\n",
    "- **Forecasting**: ARIMA, Linear, and Moving Average models\n",
    "- **Technical Analysis**: RSI, MACD, and other indicators\n",
    "- **Visualization**: Plotting forecasts and technical indicators\n",
    "- **Ensemble Methods**: Combining multiple models\n",
    "- **Cryptocurrency Support**: Analysis of crypto markets\n",
    "- **Data Export**: Converting results to various formats\n",
    "\n",
    "For more advanced features, check out the advanced_usage.py example and the package documentation."
   ]
  }
 ],
 "metadata": {
  "kernelspec": {
   "display_name": "Python 3",
   "language": "python",
   "name": "python3"
  },
  "language_info": {
   "codemirror_mode": {
    "name": "ipython",
    "version": 3
   },
   "file_extension": ".py",
   "mimetype": "text/x-python",
   "name": "python",
   "nbconvert_exporter": "python",
   "pygments_lexer": "ipython3",
   "version": "3.8.0"
  }
 },
 "nbformat": 4,
 "nbformat_minor": 4
}